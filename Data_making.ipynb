{
  "nbformat": 4,
  "nbformat_minor": 0,
  "metadata": {
    "colab": {
      "provenance": []
    },
    "kernelspec": {
      "name": "python3",
      "display_name": "Python 3"
    },
    "language_info": {
      "name": "python"
    }
  },
  "cells": [
    {
      "cell_type": "markdown",
      "source": [
        "#Making one set of 10,000 samples"
      ],
      "metadata": {
        "id": "uS0xgMsuyfmD"
      }
    },
    {
      "cell_type": "code",
      "execution_count": 1,
      "metadata": {
        "id": "w8ggc0kbLeU2"
      },
      "outputs": [],
      "source": [
        "import numpy as np\n",
        "import random\n",
        "import networkx as nx"
      ]
    },
    {
      "cell_type": "code",
      "source": [
        "# Step 1: Define the number of original bits and derived bits\n",
        "num_original_bits = 50\n",
        "start_index=num_original_bits+1\n",
        "end_index=1000\n",
        "num_samples = 10000"
      ],
      "metadata": {
        "id": "iiZDWtSd0Xr1"
      },
      "execution_count": 2,
      "outputs": []
    },
    {
      "cell_type": "code",
      "source": [
        "# Step 2: Generate formulas for x51 to x1000 in terms of x1 to x50\n",
        "formulas = {} #list\n",
        "for i in range(start_index, end_index + 1):\n",
        "\n",
        "    num_terms = random.randint(2, num_original_bits) # Randomly determine the number of terms from x1 to x50 in the XOR (at least 2)\n",
        "\n",
        "    selected_vars = random.sample(range(1, num_original_bits + 1), num_terms) # Randomly pick (num_terms many) variables from x1 to x50 for the XOR combination\n",
        "\n",
        "    formulas[f\"x{i}\"] = selected_vars # Store the formula as a list of variables for computation"
      ],
      "metadata": {
        "collapsed": true,
        "id": "n8d3n5Rt49K_"
      },
      "execution_count": 3,
      "outputs": []
    },
    {
      "cell_type": "code",
      "source": [
        "# Step 3: Generate 10k samples of x1 to x50 and compute x51 to x1000 for each sample\n",
        "dataset = []  # List to store the final dataset\n",
        "for sample_idx in range(num_samples):\n",
        "\n",
        "    variables = {f\"x{i}\": random.randint(0, 1) for i in range(1, num_original_bits + 1)} # Generate random binary values for x1 to x50\n",
        "\n",
        "    # Compute values for x51 to x1000 using the formulas\n",
        "    for i in range(start_index, end_index + 1):\n",
        "\n",
        "        selected_vars = formulas[f\"x{i}\"] # Get the variables involved in the formula\n",
        "\n",
        "        # Compute the XOR value by reducing the selected variables\n",
        "        value = 0\n",
        "        for var in selected_vars:\n",
        "            value ^= variables[f\"x{var}\"]  # XOR operation\n",
        "\n",
        "        variables[f\"x{i}\"] = value # Store the computed value\n",
        "\n",
        "    # Add the sample (x1 to x1000) to the dataset\n",
        "    dataset.append([variables[f\"x{i}\"] for i in range(1, end_index + 1)])"
      ],
      "metadata": {
        "id": "0ccdSTpHI948"
      },
      "execution_count": 4,
      "outputs": []
    },
    {
      "cell_type": "code",
      "source": [
        "# checking the sizes\n",
        "print(f\"Dataset shape: {len(dataset)} samples, {len(dataset[0])} features per sample\")"
      ],
      "metadata": {
        "colab": {
          "base_uri": "https://localhost:8080/"
        },
        "id": "MC5w_UmkFNOm",
        "outputId": "0a8e6ce3-eb79-487f-c33f-99f4b30d3137"
      },
      "execution_count": 5,
      "outputs": [
        {
          "output_type": "stream",
          "name": "stdout",
          "text": [
            "Dataset shape: 10000 samples, 1000 features per sample\n"
          ]
        }
      ]
    },
    {
      "cell_type": "code",
      "source": [
        "# Step 4: Generate the graph\n",
        "G = nx.DiGraph()  # Directed graph\n",
        "\n",
        "# Add nodes with features\n",
        "for i in range(1, end_index + 1):\n",
        "\n",
        "    # Each node x1 to x1000 will have features from the dataset (10k samples)\n",
        "    features = [dataset[sample_idx][i-1] for sample_idx in range(num_samples)]  # Features for x1 to x1000\n",
        "    G.add_node(f\"x{i}\", features=features)\n",
        "\n",
        "# Add edges based on the formulas\n",
        "for i in range(start_index, end_index + 1):\n",
        "\n",
        "    # For each x51 to x1000, check which variables are involved in the formula\n",
        "    selected_vars = formulas[f\"x{i}\"]\n",
        "\n",
        "    # Create directed edges from the variables (x1 to x50) to x_i (for each x51 to x1000)\n",
        "    for var in selected_vars:\n",
        "        G.add_edge(f\"x{var}\", f\"x{i}\")"
      ],
      "metadata": {
        "collapsed": true,
        "id": "cCbVEykGB5L9"
      },
      "execution_count": 6,
      "outputs": []
    },
    {
      "cell_type": "code",
      "source": [
        "# checking on one random varibale\n",
        "\n",
        "# Calculate the in-degree of x51\n",
        "in_degree_x51 = G.in_degree(\"x51\")\n",
        "print(f\"In-degree of x51: {in_degree_x51}\")\n",
        "\n",
        "# Count the number of elements in the formula for x51\n",
        "num_elements_x51 = len(formulas['x51'])\n",
        "print(f\"Number of elements in the formula for x51: {num_elements_x51}\")"
      ],
      "metadata": {
        "colab": {
          "base_uri": "https://localhost:8080/"
        },
        "id": "KrPEHdSyGfEF",
        "outputId": "0474f6e7-d8e1-4c6a-ab76-18ae0cdff64a"
      },
      "execution_count": 9,
      "outputs": [
        {
          "output_type": "stream",
          "name": "stdout",
          "text": [
            "In-degree of x51: 9\n",
            "Number of elements in the formula for x51: 9\n"
          ]
        }
      ]
    }
  ]
}